{
 "cells": [
  {
   "cell_type": "markdown",
   "metadata": {},
   "source": [
    "# Bed sensor sample\n",
    "Load data from bed sensor and plot it."
   ]
  },
  {
   "cell_type": "code",
   "execution_count": 1,
   "metadata": {},
   "outputs": [],
   "source": [
    "%matplotlib widget\n",
    "# May need to be changed to %matplotlib inline if jupyter-matplotlib is not available:\n",
    "# https://github.com/matplotlib/jupyter-matplotlib\n",
    "from matplotlib import pyplot as plt\n",
    "import numpy as np"
   ]
  },
  {
   "cell_type": "code",
   "execution_count": 2,
   "metadata": {},
   "outputs": [],
   "source": [
    "import niimpy \n",
    "from niimpy import ALL"
   ]
  },
  {
   "cell_type": "code",
   "execution_count": 3,
   "metadata": {},
   "outputs": [],
   "source": [
    "db = niimpy.open('data.sqlite')"
   ]
  },
  {
   "cell_type": "code",
   "execution_count": 4,
   "metadata": {},
   "outputs": [
    {
     "data": {
      "text/plain": [
       "[('xJByY57Ph7pU', '8t32BnpXQLpF')]"
      ]
     },
     "execution_count": 4,
     "metadata": {},
     "output_type": "execute_result"
    }
   ],
   "source": [
    "db.conn.execute(\"select distinct user, device from MurataBSN\").fetchall()"
   ]
  },
  {
   "cell_type": "code",
   "execution_count": 5,
   "metadata": {},
   "outputs": [],
   "source": [
    "data = db.raw('MurataBSN', 'xJByY57Ph7pU')"
   ]
  },
  {
   "cell_type": "code",
   "execution_count": 6,
   "metadata": {},
   "outputs": [
    {
     "data": {
      "text/html": [
       "<div>\n",
       "<style scoped>\n",
       "    .dataframe tbody tr th:only-of-type {\n",
       "        vertical-align: middle;\n",
       "    }\n",
       "\n",
       "    .dataframe tbody tr th {\n",
       "        vertical-align: top;\n",
       "    }\n",
       "\n",
       "    .dataframe thead th {\n",
       "        text-align: right;\n",
       "    }\n",
       "</style>\n",
       "<table border=\"1\" class=\"dataframe\">\n",
       "  <thead>\n",
       "    <tr style=\"text-align: right;\">\n",
       "      <th></th>\n",
       "      <th>user</th>\n",
       "      <th>device</th>\n",
       "      <th>time</th>\n",
       "      <th>hr</th>\n",
       "      <th>rr</th>\n",
       "      <th>sv</th>\n",
       "      <th>hrv</th>\n",
       "      <th>ss</th>\n",
       "      <th>status</th>\n",
       "      <th>bbt0</th>\n",
       "      <th>bbt1</th>\n",
       "      <th>bbt2</th>\n",
       "      <th>time2</th>\n",
       "      <th>datetime</th>\n",
       "    </tr>\n",
       "  </thead>\n",
       "  <tbody>\n",
       "    <tr>\n",
       "      <th>2020-01-16 00:35:48+02:00</th>\n",
       "      <td>xJByY57Ph7pU</td>\n",
       "      <td>8t32BnpXQLpF</td>\n",
       "      <td>1579127748</td>\n",
       "      <td>0</td>\n",
       "      <td>0</td>\n",
       "      <td>0</td>\n",
       "      <td>0</td>\n",
       "      <td>230</td>\n",
       "      <td>0</td>\n",
       "      <td>0</td>\n",
       "      <td>0</td>\n",
       "      <td>0</td>\n",
       "      <td>1579127667</td>\n",
       "      <td>2020-01-16 00:35:48+02:00</td>\n",
       "    </tr>\n",
       "    <tr>\n",
       "      <th>2020-01-16 00:35:49+02:00</th>\n",
       "      <td>xJByY57Ph7pU</td>\n",
       "      <td>8t32BnpXQLpF</td>\n",
       "      <td>1579127749</td>\n",
       "      <td>0</td>\n",
       "      <td>0</td>\n",
       "      <td>0</td>\n",
       "      <td>0</td>\n",
       "      <td>240</td>\n",
       "      <td>0</td>\n",
       "      <td>0</td>\n",
       "      <td>0</td>\n",
       "      <td>0</td>\n",
       "      <td>1579127668</td>\n",
       "      <td>2020-01-16 00:35:49+02:00</td>\n",
       "    </tr>\n",
       "    <tr>\n",
       "      <th>2020-01-16 00:35:50+02:00</th>\n",
       "      <td>xJByY57Ph7pU</td>\n",
       "      <td>8t32BnpXQLpF</td>\n",
       "      <td>1579127750</td>\n",
       "      <td>0</td>\n",
       "      <td>0</td>\n",
       "      <td>0</td>\n",
       "      <td>0</td>\n",
       "      <td>223</td>\n",
       "      <td>0</td>\n",
       "      <td>0</td>\n",
       "      <td>0</td>\n",
       "      <td>0</td>\n",
       "      <td>1579127669</td>\n",
       "      <td>2020-01-16 00:35:50+02:00</td>\n",
       "    </tr>\n",
       "    <tr>\n",
       "      <th>2020-01-16 00:35:51+02:00</th>\n",
       "      <td>xJByY57Ph7pU</td>\n",
       "      <td>8t32BnpXQLpF</td>\n",
       "      <td>1579127751</td>\n",
       "      <td>0</td>\n",
       "      <td>0</td>\n",
       "      <td>0</td>\n",
       "      <td>0</td>\n",
       "      <td>216</td>\n",
       "      <td>0</td>\n",
       "      <td>0</td>\n",
       "      <td>0</td>\n",
       "      <td>0</td>\n",
       "      <td>1579127670</td>\n",
       "      <td>2020-01-16 00:35:51+02:00</td>\n",
       "    </tr>\n",
       "    <tr>\n",
       "      <th>2020-01-16 00:35:52+02:00</th>\n",
       "      <td>xJByY57Ph7pU</td>\n",
       "      <td>8t32BnpXQLpF</td>\n",
       "      <td>1579127752</td>\n",
       "      <td>0</td>\n",
       "      <td>0</td>\n",
       "      <td>0</td>\n",
       "      <td>0</td>\n",
       "      <td>241</td>\n",
       "      <td>0</td>\n",
       "      <td>0</td>\n",
       "      <td>0</td>\n",
       "      <td>0</td>\n",
       "      <td>1579127671</td>\n",
       "      <td>2020-01-16 00:35:52+02:00</td>\n",
       "    </tr>\n",
       "  </tbody>\n",
       "</table>\n",
       "</div>"
      ],
      "text/plain": [
       "                                   user        device        time  hr  rr  sv  \\\n",
       "2020-01-16 00:35:48+02:00  xJByY57Ph7pU  8t32BnpXQLpF  1579127748   0   0   0   \n",
       "2020-01-16 00:35:49+02:00  xJByY57Ph7pU  8t32BnpXQLpF  1579127749   0   0   0   \n",
       "2020-01-16 00:35:50+02:00  xJByY57Ph7pU  8t32BnpXQLpF  1579127750   0   0   0   \n",
       "2020-01-16 00:35:51+02:00  xJByY57Ph7pU  8t32BnpXQLpF  1579127751   0   0   0   \n",
       "2020-01-16 00:35:52+02:00  xJByY57Ph7pU  8t32BnpXQLpF  1579127752   0   0   0   \n",
       "\n",
       "                           hrv   ss  status  bbt0  bbt1  bbt2       time2  \\\n",
       "2020-01-16 00:35:48+02:00    0  230       0     0     0     0  1579127667   \n",
       "2020-01-16 00:35:49+02:00    0  240       0     0     0     0  1579127668   \n",
       "2020-01-16 00:35:50+02:00    0  223       0     0     0     0  1579127669   \n",
       "2020-01-16 00:35:51+02:00    0  216       0     0     0     0  1579127670   \n",
       "2020-01-16 00:35:52+02:00    0  241       0     0     0     0  1579127671   \n",
       "\n",
       "                                           datetime  \n",
       "2020-01-16 00:35:48+02:00 2020-01-16 00:35:48+02:00  \n",
       "2020-01-16 00:35:49+02:00 2020-01-16 00:35:49+02:00  \n",
       "2020-01-16 00:35:50+02:00 2020-01-16 00:35:50+02:00  \n",
       "2020-01-16 00:35:51+02:00 2020-01-16 00:35:51+02:00  \n",
       "2020-01-16 00:35:52+02:00 2020-01-16 00:35:52+02:00  "
      ]
     },
     "execution_count": 6,
     "metadata": {},
     "output_type": "execute_result"
    }
   ],
   "source": [
    "data.head()"
   ]
  },
  {
   "cell_type": "code",
   "execution_count": 7,
   "metadata": {},
   "outputs": [
    {
     "data": {
      "text/plain": [
       "2020-01-16 00:35:48+02:00      NaN\n",
       "2020-01-16 00:35:49+02:00      NaN\n",
       "2020-01-16 00:35:50+02:00      NaN\n",
       "2020-01-16 00:35:51+02:00      NaN\n",
       "2020-01-16 00:35:52+02:00      0.0\n",
       "                             ...  \n",
       "2020-01-26 14:47:52+02:00    101.0\n",
       "2020-01-26 14:47:53+02:00    101.0\n",
       "2020-01-26 14:47:54+02:00    101.0\n",
       "2020-01-26 14:47:55+02:00    101.0\n",
       "2020-01-26 14:47:56+02:00    101.0\n",
       "Name: hr, Length: 909764, dtype: float64"
      ]
     },
     "execution_count": 7,
     "metadata": {},
     "output_type": "execute_result"
    }
   ],
   "source": [
    "data.hr.rolling(5).median()"
   ]
  },
  {
   "cell_type": "code",
   "execution_count": 8,
   "metadata": {},
   "outputs": [
    {
     "data": {
      "application/vnd.jupyter.widget-view+json": {
       "model_id": "985e8ff6928a4a9596fb3b67cd0eea85",
       "version_major": 2,
       "version_minor": 0
      },
      "text/plain": [
       "Canvas(toolbar=Toolbar(toolitems=[('Home', 'Reset original view', 'home', 'home'), ('Back', 'Back to previous …"
      ]
     },
     "metadata": {},
     "output_type": "display_data"
    },
    {
     "data": {
      "text/plain": [
       "<matplotlib.axes._subplots.AxesSubplot at 0x7fe318acf400>"
      ]
     },
     "execution_count": 8,
     "metadata": {},
     "output_type": "execute_result"
    }
   ],
   "source": [
    "#pyplot.plot(data.datetime, data.rr.rolling(60).median())\n",
    "data['y'] = data.hr.rolling(60).median()\n",
    "data.plot('datetime', 'y', rot=45, figsize=(10,8))"
   ]
  },
  {
   "cell_type": "code",
   "execution_count": null,
   "metadata": {},
   "outputs": [],
   "source": []
  }
 ],
 "metadata": {
  "kernelspec": {
   "display_name": "Python 3",
   "language": "python",
   "name": "python3"
  },
  "language_info": {
   "codemirror_mode": {
    "name": "ipython",
    "version": 3
   },
   "file_extension": ".py",
   "mimetype": "text/x-python",
   "name": "python",
   "nbconvert_exporter": "python",
   "pygments_lexer": "ipython3",
   "version": "3.7.3"
  }
 },
 "nbformat": 4,
 "nbformat_minor": 4
}
